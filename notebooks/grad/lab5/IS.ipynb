{
 "cells": [
  {
   "cell_type": "markdown",
   "id": "01f6d45c-8dd2-4085-98ad-232dc522ee61",
   "metadata": {},
   "source": [
    "# Exercício 1\n",
    "\n",
    "Considere $p(x) \\propto e^{-x^2/2}$, isto é, $X \\sim \\mathcal{N}(0,1)$, e  \n",
    "$$h(x) = \\mathbf{1}\\{x > 10\\}.$$\n",
    "Nosso objetivo é estimar  \n",
    "$$I = \\Pr(X > 10)$$\n",
    "\n",
    "- Estime $I$ por **Monte Carlo direto**, amostrando $n = 10^5$ valores de $X \\sim \\mathcal{N}(0,1)$.  \n",
    "- Estime novamente via **importance sampling**, usando como proposta $q(x) = \\mathcal{N}(10, 1)$.  \n",
    "- Compare as duas estimativas e as variâncias correspondentes.  \n"
   ]
  },
  {
   "cell_type": "markdown",
   "id": "2253a0c8-e901-4213-8dd6-5451e0531580",
   "metadata": {},
   "source": [
    "# Exercício 2\n",
    "\n",
    "Considere $X \\sim \\mathcal{N}(0,1)$ e a função\n",
    "\n",
    "$$\n",
    "g(x) = 10 \\exp\\!\\left(-5(x - 5)^4\\right).\n",
    "$$\n",
    "\n",
    "Nosso objetivo é aproximar a integral\n",
    "\n",
    "$$\n",
    "I = \\mathbb{E}[g(X)] = \\int g(x) f_X(x)\\,dx,\n",
    "$$\n",
    "\n",
    "onde $f_X$ é a densidade da normal padrão.\n",
    "\n",
    "Note que $g(x)$ é relevante apenas em uma região distante da média da normal, o que torna o método de Monte Carlo ingênuo ineficiente.\n",
    "\n",
    "Para melhorar a eficiência, vamos usar **amostragem por importância**, escolhendo uma densidade inclinada (*tilted normal*) centrada próxima da região onde $g(x)$ é significativo.\n",
    "\n",
    "1. Plote a função $g(x)$ e identifique aproximadamente onde ela assume valores mais relevantes.\n",
    "\n",
    "2. Plote no mesmo gráfico:\n",
    "   - a densidade da normal padrão $\\mathcal{N}(0,1)$;\n",
    "   - uma densidade inclinada $\\mathcal{N}(\\mu_t, 1)$, com $\\mu_t$ escolhido a partir da região identificada no item (1).\n",
    "\n",
    "3. Plote os pesos de correção $f(x)/g_t(x)$ e também o termo $g(x)\\,f(x)/g_t(x)$, onde $g_t$ é a densidade inclinada usada no *importance sampling*.\n",
    "\n",
    "4. Implemente a aproximação de $I$:\n",
    "   - usando **Monte Carlo ingênuo**;\n",
    "   - usando **amostragem por importância** com a tilted normal.\n",
    "\n",
    "5. Compare as estimativas e discuta a redução de variância obtida.\n"
   ]
  }
 ],
 "metadata": {
  "kernelspec": {
   "display_name": "Python 3 (ipykernel)",
   "language": "python",
   "name": "python3"
  },
  "language_info": {
   "codemirror_mode": {
    "name": "ipython",
    "version": 3
   },
   "file_extension": ".py",
   "mimetype": "text/x-python",
   "name": "python",
   "nbconvert_exporter": "python",
   "pygments_lexer": "ipython3",
   "version": "3.12.3"
  }
 },
 "nbformat": 4,
 "nbformat_minor": 5
}
