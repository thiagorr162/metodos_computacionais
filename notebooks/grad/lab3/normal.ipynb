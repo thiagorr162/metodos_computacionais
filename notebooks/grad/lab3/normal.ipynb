{
 "cells": [
  {
   "cell_type": "markdown",
   "id": "0a4aea9c-016a-4b3c-8a87-06f3de75c3b8",
   "metadata": {},
   "source": [
    "## Exercício: Simulação de Normal via Aceitação–Rejeição\n",
    "\n",
    "Implemente o método de aceitação–rejeição para gerar variáveis aleatórias segundo os seguintes passos:\n",
    "\n",
    "**a)** Gere uma variável $Y \\sim \\text{Exponencial}(1)$ e use-a como proposta para simular o valor absoluto de uma normal padrão $|Z| \\sim \\text{HalfNormal}(0,1)$.  \n",
    "\n",
    "**b)** A partir da variável da letra (a), use uma Bernoulli(1/2) para atribuir o sinal aleatoriamente e obter uma normal padrão $Z \\sim \\mathcal{N}(0,1)$.  \n",
    "\n",
    "**c)** Transforme o resultado da letra (b) em uma normal geral $X \\sim \\mathcal{N}(\\mu,\\sigma^2)$ por meio de transformação afim.  \n",
    "\n",
    "Gere uma amostra com $N = 10^6$ observações e compare os histogramas com a versão do NumPy (`np.random.normal`).  \n"
   ]
  },
  {
   "cell_type": "markdown",
   "id": "b5cd692a-b8dd-4eb7-a07f-e28a71342c3b",
   "metadata": {},
   "source": [
    "## Exercício 2: Amostragem por Rejeição\n",
    "\n",
    "Considere a distribuição\n",
    "$$\n",
    "f(x) = \\tfrac{1}{2}\\,\\sin(x), \\quad x \\in [0,\\pi].\n",
    "$$\n",
    "\n",
    "Use o método de aceitação–rejeição para gerar amostras dessa distribuição.\n",
    "\n",
    "- Escolha uma proposta $g(x)$ adequada.  \n",
    "- Encontre e exiba a constante $c$ tal que $c > \\max_x \\tfrac{f(x)}{g(x)}$.  \n",
    "- Implemente o algoritmo para gerar amostras de $f(x)$.  \n",
    "- Calcule o número médio de tentativas necessárias até aceitar um ponto.  \n",
    "- Compare esse valor com a eficiência teórica esperada dada por $1/c$.  \n"
   ]
  }
 ],
 "metadata": {
  "kernelspec": {
   "display_name": "Python 3 (ipykernel)",
   "language": "python",
   "name": "python3"
  },
  "language_info": {
   "codemirror_mode": {
    "name": "ipython",
    "version": 3
   },
   "file_extension": ".py",
   "mimetype": "text/x-python",
   "name": "python",
   "nbconvert_exporter": "python",
   "pygments_lexer": "ipython3",
   "version": "3.12.3"
  }
 },
 "nbformat": 4,
 "nbformat_minor": 5
}
