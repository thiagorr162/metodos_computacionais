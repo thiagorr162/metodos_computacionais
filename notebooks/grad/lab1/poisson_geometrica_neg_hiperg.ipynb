{
 "cells": [
  {
   "cell_type": "markdown",
   "id": "60abc117-bdd5-41a2-807d-0890b64b5d94",
   "metadata": {},
   "source": [
    "# Exercício 1: Poisson via Inversão Recursiva\n",
    "\n",
    "Implemente uma função `poisson_recursivo(lam)` que gera uma variável aleatória com distribuição Poisson($\\lambda$) utilizando o método de inversão recursiva visto em sala.\n",
    "\n",
    "1. Gere amostras de tamanho 10.000 para os seguintes valores de $\\lambda$: 1, 5, 10, 50, 100.\n",
    "\n",
    "2. Verifique empiricamente que a distribuição Binomial($n$, $p$) se aproxima de uma Poisson($\\lambda$) quando $n$ é grande e $p = \\lambda/n$.\n",
    "\n",
    "   - Fixe $\\lambda = 10$ e use $n = 1000$, $p = 0.01$.\n",
    "   - Gere uma amostra de tamanho 1.000 de $X \\sim \\text{Binomial}(n, p)$.\n",
    "   - Gere uma amostra de tamanho 1.000 de $Y \\sim \\text{Poisson}(\\lambda)$ usando sua função.\n",
    "   - Compare os histogramas das duas amostras.\n"
   ]
  },
  {
   "cell_type": "markdown",
   "id": "4cb6e6b9-606b-40bd-ab04-bcc58034917e",
   "metadata": {},
   "source": [
    "# Exercício 2: Geométrica\n",
    "\n",
    "1. Implemente um gerador de variáveis aleatórias com distribuição Geométrica($p$) utilizando **dois métodos**:\n",
    "\n",
    "   - **Versão ingênua (naive):** gerar sucessivamente variáveis Bernoulli($p$) até obter o primeiro sucesso;\n",
    "   - **Versão via inversão:** como vimos nas notas de aula.\n",
    "\n",
    "2. Para um valor fixo de $p$, gere uma amostra de tamanho $10^5$ utilizando ambos os métodos.\n",
    "\n",
    "3. Compare os **tempos de execução** dos dois métodos.\n",
    "\n",
    "4. Compare também as **densidades empíricas** obtidas com a distribuição gerada pela função `numpy.random.geometric`.\n",
    "\n",
    "5. Repita a comparação dos tempos para valores pequenos e grandes de $p$ (por exemplo, $p = 0.1$ e $p = 0.9$) e discuta como isso afeta a eficiência de cada método.\n"
   ]
  },
  {
   "cell_type": "markdown",
   "id": "ae32b473-75c1-4bb4-9c44-30d0460875de",
   "metadata": {},
   "source": [
    "# Exercício 3: Binomial Negativa\n",
    "\n",
    "1. Implemente um gerador de variáveis aleatórias com distribuição $\\mathrm{NegBin}(r, p)$ (número de **ensaios até o $r$-ésimo sucesso**) utilizando **três métodos**:\n",
    "\n",
    "   - **Versão soma de Bernoullis:** simule sucessivos ensaios $B_i \\sim \\mathrm{Bernoulli}(p)$ até acumular $r$ sucessos.  \n",
    "     O número total de ensaios realizados corresponde ao valor de $X$.\n",
    "\n",
    "   - **Versão soma de geométricas:** gere $r$ variáveis $X_i \\sim \\text{Geom}(p)$ via inversão, e defina\n",
    "     $$\n",
    "     X = X_1 + \\cdots + X_r.\n",
    "     $$\n",
    "\n",
    "   - **Versão via inversão recursiva:** use $U \\sim \\text{Uniforme}(0, 1)$, inicialize $n = r$, $p_r = p^r$, $F = p_r$, e atualize\n",
    "     $$\n",
    "     p_{n+1} = p_n \\cdot \\frac{n}{n - r + 1}(1 - p), \n",
    "     \\qquad F \\leftarrow F + p_{n+1},\n",
    "     $$\n",
    "     até encontrar o menor $n$ tal que $F \\ge U$.\n",
    "\n",
    "2. Para valores fixos de $r$ e $p$ (por exemplo, $r = 5$, $p = 0.3$), gere uma amostra de tamanho $10^5$ utilizando os três métodos.\n",
    "\n",
    "3. Compare os resultados com a função `numpy.random.negative_binomial(r, p)`:\n",
    "   $$\n",
    "   X_{\\text{NumPy}} = Y_{\\text{NumPy}} + r,\n",
    "   $$\n",
    "   onde `numpy.random.negative_binomial(r, p)` retorna $Y$ = número de falhas antes do $r$-ésimo sucesso.\n",
    "\n",
    "4. Faça gráficos das distribuições empíricas dos quatro métodos e compare com a **PMF teórica**.\n",
    "\n",
    "5. Compare também o **tempo de execução** dos três métodos de simulação (soma de Bernoullis, soma de geométricas, inversão recursiva) para diferentes valores de $r$ (ex.: $r = 5, 20$) e $p$ (ex.: $0.1, 0.3, 0.5, 0.7, 0.9$). Discuta como $r$ e $p$ afetam a eficiência de cada método.\n"
   ]
  },
  {
   "cell_type": "markdown",
   "id": "65d17eaf-3673-4b46-8778-53d442559b2a",
   "metadata": {},
   "source": [
    "# Exercício 4: Hipergeométrica\n",
    "\n",
    "Implemente um gerador de variáveis aleatórias $X \\sim \\text{Hipergeom}(N,K,n)$ utilizando o **algoritmo de Fisher–Yates parcial** para realizar a amostragem sem reposição.  \n",
    "Compare o histograma da amostra simulada com a distribuição teórica dada por `scipy.stats.hypergeom.pmf`.\n"
   ]
  }
 ],
 "metadata": {
  "kernelspec": {
   "display_name": "Python 3 (ipykernel)",
   "language": "python",
   "name": "python3"
  },
  "language_info": {
   "codemirror_mode": {
    "name": "ipython",
    "version": 3
   },
   "file_extension": ".py",
   "mimetype": "text/x-python",
   "name": "python",
   "nbconvert_exporter": "python",
   "pygments_lexer": "ipython3",
   "version": "3.13.4"
  }
 },
 "nbformat": 4,
 "nbformat_minor": 5
}
