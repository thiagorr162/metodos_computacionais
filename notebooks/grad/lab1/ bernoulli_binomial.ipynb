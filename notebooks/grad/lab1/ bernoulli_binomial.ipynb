{
 "cells": [
  {
   "cell_type": "markdown",
   "id": "ed572069-bd4a-4483-9609-1bbf34cd56da",
   "metadata": {},
   "source": [
    "# Exercício 1: Bernoullis\n",
    "\n",
    "## A - Gerador de Bernoulli\n",
    "\n",
    "1. Implemente uma função que gere várias realizações de uma variável de Bernoulli com parâmetro $p$.  \n",
    "2. Usando $p = 0.3$, compare o histograma das amostras obtidas com o gerador implementado com aquelas produzidas pela função `numpy.random.binomial`.\n",
    "\n",
    "---\n",
    "\n",
    "## B - Gerador de Uniforme via expansão binária\n",
    "\n",
    "1. Usando o gerador de Bernoullis de parâmetro $0.5$, construa variáveis **Uniformes(0,1)** a partir da expansão binária:\n",
    "\n",
    "   $$\n",
    "   U = \\sum_{k=1}^m \\frac{B_k}{2^k}, \\quad B_k \\sim \\text{Bernoulli}(0.5).\n",
    "   $$\n",
    "\n",
    "2. Gere uma amostra de tamanho $1000$ para $U$, utilizando $m$ bits de precisão (por exemplo, $m = 20$) e compare com a versão do numpy `numpy.random.uniform`.\n"
   ]
  },
  {
   "cell_type": "markdown",
   "id": "31d9ac0e-ecb1-4525-8c30-610fe7e2d3d9",
   "metadata": {},
   "source": [
    "# Exercício 2: Binomial\n",
    "\n",
    "Implemente um gerador de variáveis aleatórias com distribuição Binomial($n,p$) utilizando **dois métodos diferentes**:\n",
    "\n",
    "1. **Método via Bernoullis**: some $n$ variáveis independentes $B_i \\sim \\text{Bernoulli}(p)$.\n",
    "\n",
    "2. **Método via inversão recursiva**: utilize a função de distribuição acumulada da Binomial e um gerador uniforme para determinar o valor da variável.\n",
    "\n",
    "3. Compare o **tempo de execução** dos dois métodos ao gerar uma amostra de tamanho grande (por exemplo, $10^5$ observações).  \n",
    "   - Fixe $n$ (por exemplo, $n=20$) e varie o valor de $p$ (por exemplo, $p=0.1, 0.3, 0.5, 0.7, 0.9$).  \n",
    "   - Observe como o desempenho dos dois métodos se altera de acordo com $p$.\n",
    "\n",
    "4. Compare as **densidades empíricas** obtidas pelos dois métodos com a densidade de referência gerada pela função pronta `numpy.random.binomial`.  \n",
    "   - Faça histogramas normalizados ou gráficos de barras lado a lado.  \n",
    "   - Discuta se as distribuições coincidem e se há diferenças relevantes.\n",
    "\n",
    "5. No caso do **método de inversão recursiva**, calcule o **número médio de passos** que o algoritmo dá até parar.  \n",
    "   - Mostre empiricamente esse valor para diferentes $p$.  \n"
   ]
  }
 ],
 "metadata": {
  "kernelspec": {
   "display_name": "Python 3 (ipykernel)",
   "language": "python",
   "name": "python3"
  },
  "language_info": {
   "codemirror_mode": {
    "name": "ipython",
    "version": 3
   },
   "file_extension": ".py",
   "mimetype": "text/x-python",
   "name": "python",
   "nbconvert_exporter": "python",
   "pygments_lexer": "ipython3",
   "version": "3.13.4"
  }
 },
 "nbformat": 4,
 "nbformat_minor": 5
}
