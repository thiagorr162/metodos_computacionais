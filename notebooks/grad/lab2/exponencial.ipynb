{
 "cells": [
  {
   "cell_type": "markdown",
   "id": "66b5a6c9-492f-42b3-849f-8158e3e50ad5",
   "metadata": {},
   "source": [
    "# Exercício 1: Exponencial\n",
    "\n",
    "1. Implemente um gerador de variáveis aleatórias com distribuição Exponencial($\\lambda$) utilizando o **método da inversão**, como visto em sala.\n",
    "\n",
    "2. Para um valor fixo de $\\lambda$, gere uma amostra de tamanho $10^5$ utilizando o método implementado.\n",
    "\n",
    "3. Plote o **histograma** da amostra gerada e compare visualmente com a densidade teórica da distribuição Exponencial($\\lambda$).\n",
    "\n",
    "4. Compare também a amostra obtida com aquela gerada pela função `numpy.random.exponential`.\n",
    "\n",
    "5. Repita a comparação para valores pequenos e grandes de $\\lambda$ (por exemplo, $\\lambda = 0.5$ e $\\lambda = 5$) e discuta como isso afeta a forma da distribuição.\n",
    "\n"
   ]
  },
  {
   "cell_type": "markdown",
   "id": "adcee3f4-6a59-4291-9d6d-afc2814cf5a3",
   "metadata": {},
   "source": [
    "## Exercício 2: Aproximação da Exponencial pela Geométrica\n",
    "\n",
    "Lembre-se de que, se $T \\sim \\text{Geom}(p)$ representa o número de ensaios até o primeiro sucesso em uma sequência de Bernoulli($p$), então para $n$ grande e $p = \\lambda/n$, a variável $T/n$ converge em distribuição para uma Exponencial($\\lambda$).\n",
    "\n",
    "1. Implemente um gerador de variáveis aleatórias que utiliza essa aproximação:  \n",
    "   - Gere $T \\sim \\text{Geom}(p)$ com $p = \\lambda/n$;  \n",
    "   - Retorne $X = T/n$ como aproximação de $X \\sim \\text{Exp}(\\lambda)$.\n",
    "\n",
    "2. Para um valor fixo de $\\lambda$, gere uma amostra de tamanho $10^5$ usando esse método para diferentes valores de $n$ (por exemplo, $n = 50, 500, 5000$).\n",
    "\n",
    "3. Plote os histogramas obtidos e compare com a densidade teórica da Exponencial($\\lambda$).  \n"
   ]
  },
  {
   "cell_type": "markdown",
   "id": "00ccd163-822d-4673-b92e-cdc5b31fd824",
   "metadata": {},
   "source": [
    "## Exercício 3: Simulação da Poisson a partir de Exponenciais\n",
    "\n",
    "Considere a distribuição $\\text{Poisson}(\\mu)$, que conta o número de ocorrências em um intervalo de comprimento $1$.  \n",
    "Uma forma alternativa de simular essa variável é utilizar variáveis Exponenciais($\\mu$), que representam os tempos entre ocorrências.\n",
    "\n",
    "### Tarefas\n",
    "\n",
    "1. Implemente a função `poisson_via_exp(mu)` que gera uma realização de $\\text{Poisson}(\\mu)$ da seguinte forma:  \n",
    "   - Some variáveis Exponenciais($\\mu$) sucessivas até ultrapassar o valor $1$;  \n",
    "   - Retorne o número de somas realizadas **antes** de ultrapassar $1$.\n",
    "\n",
    "2. Use essa função para gerar uma amostra de tamanho $10^4$ de $\\text{Poisson}(4)$ (isto é, $\\mu = 4$ e $t = 1$ fixo).  \n",
    "\n",
    "3. Plote o histograma da amostra obtida e compare com uma amostra gerada pela função `numpy.random.poisson(lam=mu)`.  \n",
    "\n",
    "4. Calcule e compare as médias e variâncias empíricas com os valores teóricos:  \n",
    "   - $\\mathbb{E}[X] = \\mu$  \n",
    "   - $\\mathrm{Var}(X) = \\mu$\n"
   ]
  }
 ],
 "metadata": {
  "kernelspec": {
   "display_name": "Python 3 (ipykernel)",
   "language": "python",
   "name": "python3"
  },
  "language_info": {
   "codemirror_mode": {
    "name": "ipython",
    "version": 3
   },
   "file_extension": ".py",
   "mimetype": "text/x-python",
   "name": "python",
   "nbconvert_exporter": "python",
   "pygments_lexer": "ipython3",
   "version": "3.12.3"
  }
 },
 "nbformat": 4,
 "nbformat_minor": 5
}
