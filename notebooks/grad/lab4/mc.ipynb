{
 "cells": [
  {
   "cell_type": "markdown",
   "id": "7154e221-0562-4f72-aa18-9818fd830000",
   "metadata": {},
   "source": [
    "# Exercício 1\n",
    "\n",
    "Ache **intervalos de confiança** para os exemplos do laboratório anterior.\n",
    "\n",
    "O objetivo é estimar uma quantidade de interesse\n",
    "\n",
    "$$\n",
    "I = \\mathbb{E}[h(X)],\n",
    "$$\n",
    "\n",
    "usando o estimador de Monte Carlo\n",
    "\n",
    "$$\n",
    "\\hat{I}_n = \\frac{1}{n}\\sum_{i=1}^n h(X_i),\n",
    "$$\n",
    "\n",
    "onde $X_1, \\ldots, X_n$ são amostras independentes de $X$.\n",
    "\n",
    "Pelo Teorema Central do Limite, para $n$ grande,\n",
    "\n",
    "$$\n",
    "\\hat{I}_n \\approx \\mathcal{N}\\left(I, \\frac{\\sigma^2}{n}\\right),\n",
    "$$\n",
    "\n",
    "onde $\\sigma^2 = \\mathrm{Var}(h(X))$. Como $\\sigma^2$ é desconhecido, usamos o desvio padrão amostral\n",
    "\n",
    "$$\n",
    "s_n^2 = \\frac{1}{n-1}\\sum_{i=1}^n (h(X_i) - \\hat{I}_n)^2.\n",
    "$$\n",
    "\n",
    "Um intervalo de confiança de 95% para $I$ é dado por\n",
    "\n",
    "$$\n",
    "\\hat{I}_n \\pm 1.96\\,\\frac{s_n}{\\sqrt{n}}.\n",
    "$$\n"
   ]
  },
  {
   "cell_type": "markdown",
   "id": "fe0b108b-c695-451c-8b9e-d75813de482d",
   "metadata": {},
   "source": [
    "# Exercício 2\n",
    "\n",
    "Sejam $X_1, \\ldots, X_n$ variáveis independentes $X_i \\sim \\mathcal{N}(0, \\sigma^2)$.  \n",
    "O objetivo é verificar, por meio de simulações de Monte Carlo, o comportamento de  \n",
    "$\\mathbb{E}\\left[\\max_{1 \\leq i \\leq n} X_i\\right]$ em relação ao limite teórico $\\sqrt{2\\sigma^2 \\log(n)}$.\n",
    "\n",
    "- Para $n = 1, 2, \\ldots, 1000$, estime $\\mathbb{E}\\left[\\max_{1 \\leq i \\leq n} X_i\\right]$ com amostras de tamanho $M = 1000$.\n",
    "\n",
    "- Plote, em um único gráfico:\n",
    "  - A curva estimada de $\\mathbb{E}\\left[\\max_{1 \\leq i \\leq n} X_i\\right]$ para $n = 1, 2, \\ldots, 1000$;\n",
    "  - A curva teórica $\\sqrt{2\\sigma^2 \\log(n)}$, para comparação.\n"
   ]
  }
 ],
 "metadata": {
  "kernelspec": {
   "display_name": "Python 3 (ipykernel)",
   "language": "python",
   "name": "python3"
  },
  "language_info": {
   "codemirror_mode": {
    "name": "ipython",
    "version": 3
   },
   "file_extension": ".py",
   "mimetype": "text/x-python",
   "name": "python",
   "nbconvert_exporter": "python",
   "pygments_lexer": "ipython3",
   "version": "3.12.3"
  }
 },
 "nbformat": 4,
 "nbformat_minor": 5
}
