{
 "cells": [
  {
   "cell_type": "markdown",
   "id": "7bbdd83c-a0ec-4774-9b04-33db9ba29f64",
   "metadata": {},
   "source": [
    "# Exercício: Simulação da Normal(0,1) com variáveis antitéticas\n",
    "\n",
    "1. Use o método de **aceitação-rejeição** para simular variáveis aleatórias da distribuição $N(0,1)$, \n",
    "   tomando como distribuição instrumental a **half-normal** (com troca aleatória de sinais).\n",
    "\n",
    "2. Repita o procedimento em dois cenários:\n",
    "   - **Sem antitética**: gere amostras independentes.\n",
    "   - **Com antitética**: a partir de cada uniforme $U$, use também $1-U$ para formar um par de variáveis.\n",
    "\n",
    "3. Para cada caso, estime $\\mathbb{E}[Y^2]$, cujo valor teórico é igual a $1$.\n",
    "\n",
    "4. Compare os resultados obtidos (estimativas e erros médios quadráticos) nos dois métodos.\n",
    "\n",
    "5. Mostre, no caso independente, que o erro quadrático médio esperado é\n",
    "   $$\n",
    "   \\text{MSE} = \\mathbb{E}\\big[(Y^2 - 1)^2\\big] = 2,\n",
    "   $$\n",
    "   utilizando os momentos $\\mathbb{E}[Y^2] = 1$ e $\\mathbb{E}[Y^4] = 3$, e compare com o valor obtido na simulação.\n",
    "\n",
    "6. **Importante:** implemente a simulação utilizando também as técnicas de otimização discutidas em sala \n",
    "   (por exemplo, vetorização, uso de funções eficientes para geração de números aleatórios e cálculos em lote).\n"
   ]
  },
  {
   "cell_type": "markdown",
   "id": "9a8210fa-21e2-481e-9532-6b8bf3eb5277",
   "metadata": {},
   "source": [
    "# Exercício: Aproximação de uma Integral\n",
    "\n",
    "Como você resolveria a seguinte integral usando as técnicas vistas em sala?\n",
    "\n",
    "$$\n",
    "I = \\int_0^\\infty \\log(1+x^2)e^{-x}\\,dx\n",
    "$$\n"
   ]
  },
  {
   "cell_type": "markdown",
   "id": "6a3603f7-e6f3-4aad-ba16-b10a9ae1f45d",
   "metadata": {},
   "source": [
    "# Exercício: Amostragem por importância em caminhada aleatória\n",
    "\n",
    "Considere $X_1,X_2,\\ldots$ independentes com $X_j \\sim \\text{Bernoulli}(p)$, onde $p<1/2$.  \n",
    "Defina a caminhada aleatória\n",
    "$$\n",
    "S_m = \\sum_{j=1}^m (2X_j-1), \\qquad S_0=0,\n",
    "$$\n",
    "com passos $\\pm1$ e deriva negativa.  \n",
    "Fixe limites $a<0<b$ e o tempo de saída\n",
    "$$\n",
    "M=\\min\\{m\\ge1 : S_m\\notin(a,b)\\}.\n",
    "$$\n",
    "Nosso objetivo é estimar a probabilidade rara\n",
    "$$\n",
    "\\theta = \\mathbb{P}(S_M > b).\n",
    "$$\n",
    "\n",
    "Utilize o método de **amostragem por importância** com densidades inclinadas para construir um estimador de $\\theta$.  \n",
    "Explique a escolha do parâmetro de inclinação $t$ e mostre, por simulação, como o método permite obter uma boa aproximação mesmo para valores grandes de $b$.\n"
   ]
  }
 ],
 "metadata": {
  "kernelspec": {
   "display_name": "Python 3 (ipykernel)",
   "language": "python",
   "name": "python3"
  },
  "language_info": {
   "codemirror_mode": {
    "name": "ipython",
    "version": 3
   },
   "file_extension": ".py",
   "mimetype": "text/x-python",
   "name": "python",
   "nbconvert_exporter": "python",
   "pygments_lexer": "ipython3",
   "version": "3.12.3"
  }
 },
 "nbformat": 4,
 "nbformat_minor": 5
}
