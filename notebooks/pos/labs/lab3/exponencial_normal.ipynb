{
 "cells": [
  {
   "cell_type": "markdown",
   "id": "66187535-0cce-4bf2-833b-2c90c8c78d65",
   "metadata": {},
   "source": [
    "## Exercício: Simulação via Aceitação-Rejeição\n",
    "\n",
    "Implemente o método de aceitação-rejeição para gerar variáveis aleatórias com as seguintes distribuições:\n",
    "\n",
    "**a)** Exponencial com parâmetro $\\lambda > 0$.\n",
    "\n",
    "**b)** Valor absoluto de uma normal padrão: $|Z| \\sim \\text{HalfNormal}(0,1)$, usando como densidade proposta uma exponencial com parâmetro 1.\n",
    "\n",
    "**c)** Normal padrão $Z \\sim \\mathcal{N}(0,1)$, a partir da variável da letra (b) e uma Bernoulli para o sinal.\n",
    "\n",
    "**d)** Normal geral $X \\sim \\mathcal{N}(\\mu, \\sigma^2)$, a partir da variável da letra (c) com transformação afim.\n",
    "\n",
    "Gere uma amostra com $N = 10^6$ observações e compare os tempos de execução das versões com e sem otimizações.  \n",
    "Compare também com os geradores prontos do NumPy (`np.random.exponential`, `np.random.normal`) para verificar o impacto do método e das otimizações.\n",
    "\n",
    "Utilize as técnicas de aceleração discutidas em sala: vetorização com NumPy, `@njit` com Numba, ou paralelização com `joblib`.\n"
   ]
  }
 ],
 "metadata": {
  "kernelspec": {
   "display_name": "Python 3 (ipykernel)",
   "language": "python",
   "name": "python3"
  },
  "language_info": {
   "codemirror_mode": {
    "name": "ipython",
    "version": 3
   },
   "file_extension": ".py",
   "mimetype": "text/x-python",
   "name": "python",
   "nbconvert_exporter": "python",
   "pygments_lexer": "ipython3",
   "version": "3.12.3"
  }
 },
 "nbformat": 4,
 "nbformat_minor": 5
}
