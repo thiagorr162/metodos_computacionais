{
 "cells": [
  {
   "cell_type": "markdown",
   "id": "8faceee6-1460-42c4-8454-b7c4cd5c0fcd",
   "metadata": {},
   "source": [
    "# Exercício: Estimando $\\pi$ com variáveis de controle\n",
    "\n",
    "Considere a integral\n",
    "$$\n",
    "\\theta = \\int_0^1 \\frac{1}{1+x^2}\\, dx = \\frac{\\pi}{4}.\n",
    "$$\n",
    "\n",
    "\n",
    "### Tarefas\n",
    "\n",
    "1. Implemente uma simulação de Monte Carlo para estimar $\\pi$ a partir da expressão acima.  \n",
    "\n",
    "2. Proponha uma variável de controle adequada e derive o estimador controlado.  \n",
    "\n",
    "3. Compare, via simulação, as estimativas obtidas com e sem variável de controle.  \n"
   ]
  },
  {
   "cell_type": "markdown",
   "id": "c231e6df-87d2-4f6a-a8cf-7d095640aad5",
   "metadata": {},
   "source": [
    "# Exercício: Estimando $\\pi$ com Técnicas de Redução de Variância\n",
    "\n",
    "Considere o problema de estimar $\\pi$ via simulação, sorteando pontos $(V_1,V_2)$ uniformemente em $[-1,1]^2$. O estimador usual é\n",
    "$$\n",
    "\\hat{\\pi} = \\frac{4}{n}\\sum_{i=1}^n \\mathbf{1}\\{V_{1,i}^2 + V_{2,i}^2 \\leq 1\\}.\n",
    "$$\n",
    "\n",
    "Sabemos que esse estimador pode ser melhorado usando técnicas de redução de variância.\n",
    "\n",
    "1. **Condicionamento:** Mostre que, condicionando em $V_1$, o estimador pode ser reescrito como\n",
    "   $$\n",
    "   Z = \\sqrt{1 - V_1^2},\n",
    "   $$\n",
    "   e construa o estimador correspondente de $\\pi$ a partir de $Z$.\n",
    "\n",
    "2. **Variáveis antitéticas:** Aplique a técnica de variáveis antitéticas ao estimador condicional.\n",
    "\n",
    "3. **Variável de controle:** Note que $\\mathbb{E}[V_1^2] = 1/3$ é conhecido. Use $Y = V_1^2$ como variável de controle no estimador condicional (ou condicional + antitético), derive a forma do estimador controlado\n",
    "   $$\n",
    "   \\hat{\\pi}_{\\text{ctrl}} = \\frac{4}{n}\\sum_{i=1}^n \\Big(Z_i + \\hat{c}(Y_i - 1/3)\\Big),\n",
    "   $$\n",
    "   onde $\\hat{c}$ é escolhido de acordo com a fórmula ótima de controle de variância.\n",
    "\n",
    "4. Compare, por simulação, a variância dos quatro estimadores: (a) o simples baseado em $I$, (b) o condicionado, (c) o condicionado com antitética, e (d) o condicionado com antitética e controle.\n"
   ]
  },
  {
   "cell_type": "markdown",
   "id": "962e6690-a07c-4f47-83dc-239f3826549e",
   "metadata": {},
   "source": [
    "# Exercício: Estimando $\\mathbb{P}(X > 1)$\n",
    "\n",
    "Seja $Y \\sim \\text{Exp}(1)$ e $X \\mid Y=y \\sim \\mathcal{N}(y,4)$.  \n",
    "Nosso objetivo é estimar $\\mathbb{P}(X > 1)$.\n",
    "\n",
    "1. Construa um estimador de $\\mathbb{P}(X>1)$ usando o método direto de Monte Carlo, isto é, gerando amostras de $X$ e verificando a proporção de vezes em que $X > 1$.  \n",
    "2. Em seguida, derive um estimador mais eficiente usando condicionamento, isto é, calcule $\\mathbb{E}[Z \\mid Y]$ com $Z = \\mathbf{1}\\{X>1\\}$.  \n",
    "3. Compare numericamente, por simulação, a variância dos dois estimadores.\n"
   ]
  }
 ],
 "metadata": {
  "kernelspec": {
   "display_name": "Python 3 (ipykernel)",
   "language": "python",
   "name": "python3"
  },
  "language_info": {
   "codemirror_mode": {
    "name": "ipython",
    "version": 3
   },
   "file_extension": ".py",
   "mimetype": "text/x-python",
   "name": "python",
   "nbconvert_exporter": "python",
   "pygments_lexer": "ipython3",
   "version": "3.12.3"
  }
 },
 "nbformat": 4,
 "nbformat_minor": 5
}
