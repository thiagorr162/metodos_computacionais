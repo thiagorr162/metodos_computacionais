{
 "cells": [
  {
   "cell_type": "markdown",
   "id": "8faceee6-1460-42c4-8454-b7c4cd5c0fcd",
   "metadata": {},
   "source": [
    "# Exercício: Estimando $\\pi$ com variáveis de controle\n",
    "\n",
    "Considere a integral\n",
    "$$\n",
    "\\theta = \\int_0^1 \\frac{1}{1+x^2}\\, dx = \\frac{\\pi}{4}.\n",
    "$$\n",
    "\n",
    "\n",
    "### Tarefas\n",
    "\n",
    "1. Implemente uma simulação de Monte Carlo para estimar $\\pi$ a partir da expressão acima.  \n",
    "\n",
    "2. Proponha uma variável de controle adequada e derive o estimador controlado.  \n",
    "\n",
    "3. Compare, via simulação, as estimativas obtidas com e sem variável de controle.  \n"
   ]
  },
  {
   "cell_type": "code",
   "execution_count": null,
   "id": "86b161b9-1404-4de1-a172-832ce2686711",
   "metadata": {},
   "outputs": [],
   "source": []
  }
 ],
 "metadata": {
  "kernelspec": {
   "display_name": "Python 3 (ipykernel)",
   "language": "python",
   "name": "python3"
  },
  "language_info": {
   "codemirror_mode": {
    "name": "ipython",
    "version": 3
   },
   "file_extension": ".py",
   "mimetype": "text/x-python",
   "name": "python",
   "nbconvert_exporter": "python",
   "pygments_lexer": "ipython3",
   "version": "3.12.3"
  }
 },
 "nbformat": 4,
 "nbformat_minor": 5
}
