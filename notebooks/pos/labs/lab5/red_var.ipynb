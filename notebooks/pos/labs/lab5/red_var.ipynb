{
 "cells": [
  {
   "cell_type": "markdown",
   "id": "9a8210fa-21e2-481e-9532-6b8bf3eb5277",
   "metadata": {},
   "source": [
    "# Exercício: Aproximação de uma Integral\n",
    "\n",
    "Como você resolveria a seguinte integral usando as técnicas vistas em sala?\n",
    "\n",
    "$$\n",
    "I = \\int_0^\\infty \\log(1+x^2)e^{-x}\\,dx\n",
    "$$\n"
   ]
  },
  {
   "cell_type": "markdown",
   "id": "6a3603f7-e6f3-4aad-ba16-b10a9ae1f45d",
   "metadata": {},
   "source": [
    "# Exercício: Amostragem por importância em integrais\n",
    "\n",
    "Considere $X \\sim N(0,1)$ e a função\n",
    "$$\n",
    "g(x) = 10 \\exp\\!\\big(-5(x-3)^4\\big).\n",
    "$$\n",
    "\n",
    "Nosso objetivo é aproximar a integral\n",
    "$$\n",
    "I = \\mathbb{E}[g(X)] = \\int g(x) f_X(x)\\, dx,\n",
    "$$\n",
    "onde $f_X$ é a densidade da normal padrão.\n",
    "\n",
    "Note que $g(x)$ é relevante apenas em uma região distante da média da normal, o que torna o método de Monte Carlo ingênuo ineficiente.\n",
    "\n",
    "Para melhorar a eficiência, vamos usar **amostragem por importância**, escolhendo uma densidade inclinada (tilted normal) centrada próxima da região onde $g(x)$ é significativo.\n",
    "\n",
    "\n",
    "1. Plote a função $g(x)$ e identifique aproximadamente onde ela assume valores mais relevantes.  \n",
    "\n",
    "2. Plote no mesmo gráfico:\n",
    "   - a densidade da normal padrão $N(0,1)$;\n",
    "   - uma densidade inclinada $N(\\mu_t,1)$, com $\\mu_t$ escolhido a partir da região identificada no item (1).\n",
    "\n",
    "3. Plote os pesos de correção $f(x)/g_t(x)$ e também o termo $g(x)\\,f(x)/g_t(x)$, onde $g_t$ é a densidade inclinada usada no importance sampling.\n",
    "\n",
    "4. Implemente a aproximação de $I$:\n",
    "   - usando Monte Carlo ingênuo;\n",
    "   - usando amostragem por importância com a tilted normal.\n",
    "\n",
    "5. Compare as estimativas e discuta a redução de variância obtida.\n"
   ]
  }
 ],
 "metadata": {
  "kernelspec": {
   "display_name": "Python 3 (ipykernel)",
   "language": "python",
   "name": "python3"
  },
  "language_info": {
   "codemirror_mode": {
    "name": "ipython",
    "version": 3
   },
   "file_extension": ".py",
   "mimetype": "text/x-python",
   "name": "python",
   "nbconvert_exporter": "python",
   "pygments_lexer": "ipython3",
   "version": "3.12.3"
  }
 },
 "nbformat": 4,
 "nbformat_minor": 5
}
