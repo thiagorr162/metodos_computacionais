{
 "cells": [
  {
   "cell_type": "markdown",
   "id": "5424a952-a866-4edb-9281-ccd924cdf91a",
   "metadata": {},
   "source": [
    "## Exercício: Simulação da distribuição Gama via Aceitação–Rejeição\n",
    "\n",
    "Considere a variável aleatória   $X \\sim \\mathrm{Gamma}(k, \\theta)$,  cuja densidade é dada por  \n",
    "\n",
    "$$\n",
    "f(x) = \\frac{1}{\\Gamma(k)\\,\\theta^k} \\, x^{k-1} e^{-x/\\theta}, \\quad x > 0.\n",
    "$$\n",
    "\n",
    "Implemente um algoritmo de **aceitação–rejeição**, aplicando as **técnicas de otimização vistas em sala**, para gerar amostras de $X$ a partir de uma distribuição exponencial proposta.\n",
    "\n",
    "### Tarefas\n",
    "\n",
    "1. Implemente a função `gamma_ar_exp(k, theta, size, lam)` que gera amostras de $X \\sim \\mathrm{Gamma}(k,\\theta)$.  \n",
    "2. Plote o histograma da amostra e compare-o com a densidade teórica da distribuição.  \n",
    "3. Calcule a média e a variância empíricas da amostra e confronte com os valores teóricos:  \n",
    "   - $\\mathbb{E}[X] = k\\theta$  \n",
    "   - $\\mathrm{Var}(X) = k\\theta^2$  \n",
    "4. **Varie o parâmetro $\\lambda$ da exponencial** considerando valores menores, maiores e igual a $1/\\theta$, computacionalmente e teoricamente. Analise como essas escolhas influenciam:  \n",
    "   - a taxa de aceitação do método,  \n",
    "   - o número de amostras rejeitadas,  \n",
    "   - a eficiência computacional.  \n",
    "5. Estime a quantidade média de passos necessários para gerar uma observação aceita. Compare esse resultado com o valor teórico esperado para a taxa de aceitação.  \n"
   ]
  },
  {
   "cell_type": "markdown",
   "id": "bc3c71df-92f7-4d9d-b21f-95111e558126",
   "metadata": {},
   "source": [
    "## Exercício: Simulação da distribuição Beta via Aceitação–Rejeição\n",
    "\n",
    "Considere a variável aleatória   $X \\sim \\mathrm{Beta}(\\alpha, \\beta)$,   cuja densidade é dada por  \n",
    "\n",
    "$$\n",
    "f(x) = \\frac{\\Gamma(\\alpha+\\beta)}{\\Gamma(\\alpha)\\,\\Gamma(\\beta)} \\, x^{\\alpha-1} (1-x)^{\\beta-1}, \\quad 0 < x < 1.\n",
    "$$\n",
    "\n",
    "Implemente um algoritmo de **aceitação–rejeição**, aplicando as **técnicas de otimização vistas em sala**, para gerar amostras de $X$ a partir de uma proposta adequada definida no intervalo $(0,1)$.\n",
    "\n",
    "### Tarefas\n",
    "\n",
    "1. Implemente a função `beta_ar(alpha, beta, size)` que gera amostras de $X \\sim \\mathrm{Beta}(\\alpha,\\beta)$.  \n",
    "2. Plote o histograma da amostra e compare-o com a densidade teórica da distribuição.  \n",
    "3. Calcule a média e a variância empíricas da amostra e confronte com os valores teóricos:  \n",
    "   - $\\mathbb{E}[X] = \\dfrac{\\alpha}{\\alpha+\\beta}$  \n",
    "   - $\\mathrm{Var}(X) = \\dfrac{\\alpha\\beta}{(\\alpha+\\beta)^2(\\alpha+\\beta+1)}$  \n",
    "4. Estime a quantidade média de passos necessários para gerar uma observação aceita e compare com a taxa de aceitação teórica obtida a partir do valor máximo da densidade da Beta.  \n"
   ]
  }
 ],
 "metadata": {
  "kernelspec": {
   "display_name": "Python 3 (ipykernel)",
   "language": "python",
   "name": "python3"
  },
  "language_info": {
   "codemirror_mode": {
    "name": "ipython",
    "version": 3
   },
   "file_extension": ".py",
   "mimetype": "text/x-python",
   "name": "python",
   "nbconvert_exporter": "python",
   "pygments_lexer": "ipython3",
   "version": "3.12.3"
  }
 },
 "nbformat": 4,
 "nbformat_minor": 5
}
