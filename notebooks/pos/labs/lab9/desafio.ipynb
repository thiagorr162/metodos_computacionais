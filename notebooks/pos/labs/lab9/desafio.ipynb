{
 "cells": [
  {
   "cell_type": "markdown",
   "id": "9085cbac-9be7-4fd7-a7af-ca22b3a719b3",
   "metadata": {},
   "source": [
    "## Exemplo – Decifrando uma mensagem secreta\n",
    "\n",
    "Uma **cifra de substituição monoalfabética** é um método simples de criptografia\n",
    "em que cada letra do alfabeto é substituída por outra, de acordo com uma\n",
    "**permutação secreta** $\\phi$ do conjunto de letras.\n",
    "\n",
    "Por exemplo:\n",
    "\n",
    "| Letra original | a | b | c | d | e | ... |\n",
    "|----------------|---|---|---|---|---|-----|\n",
    "| Letra cifrada  | q | x | t | p | r | ... |\n",
    "\n",
    "Nosso objetivo é **recuperar a permutação** $\\phi$\n",
    "a partir de um texto cifrado,\n",
    "usando o algoritmo de **amostragem MCMC**.\n",
    "\n",
    "---\n",
    "\n",
    "### Modelo probabilístico\n",
    "\n",
    "Seja o texto cifrado $Y = (y_1, \\ldots, y_n)$\n",
    "e a permutação desconhecida $\\phi$.\n",
    "O texto original é então $X = \\phi^{-1}(Y)$.\n",
    "\n",
    "Assumimos que o texto original uma **cadeia de Markov sobre letras**.\n",
    "Cada letra tem probabilidade condicional baseada apenas na(s) anterior(es),\n",
    "com transições dadas por $P(x_t \\mid x_{t-1})$.\n",
    "\n",
    "Essas probabilidades podem ser estimadas previamente\n",
    "a partir de um corpus grande no idioma de interesse.\n",
    "\n",
    "Assim, a verossimilhança de uma chave $\\phi$ é proporcional a\n",
    "\n",
    "$$\n",
    "P(Y \\mid \\phi)\n",
    "\\propto\n",
    "\\prod_{t=2}^{n}\n",
    "P\\!\\left( \\phi^{-1}(y_t) \\mid \\phi^{-1}(y_{t-1}) \\right),\n",
    "$$\n",
    "\n",
    "onde cada termo $P(a \\mid b)$ representa a frequência relativa\n",
    "com que a letra $a$ segue a letra $b$ no corpus.\n",
    "\n",
    "O problema de decifrar o texto é, portanto,\n",
    "o de **encontrar a permutação $\\phi$ que maximiza a probabilidade**\n",
    "de que o texto decifrado soe plausível de acordo com o idioma modelado.\n",
    "\n",
    "\n",
    "### Exercício\n",
    "\n",
    "O texto abaixo foi cifrado com uma **permutação secreta** das letras do alfabeto.\n",
    "Use o **algoritmo de Metropolis–Hastings** para tentar recuperar o texto original.\n",
    "\n",
    "**k jtpqk sm qdhtgxjxk mqrkjxqrdjx m htdrk gmaxg mgm m thx sxq hxrmpdxq hxdq gmaxdq sx mqrxrdqrdjx ex otm miukgum htdrx hxrmhxrdjx lpkbxbdgdsxsm m jkhltrxjxk xgmh sm qmp th jtpqk qtbmp sdumprdsk mgm rxhbmh m hdidqrpxsk lkp th skq skqjmirmq hxdq qdhlxrdjkq m bkidrkq sm qxk jxpgkq**\n"
   ]
  }
 ],
 "metadata": {
  "kernelspec": {
   "display_name": "Python 3 (ipykernel)",
   "language": "python",
   "name": "python3"
  },
  "language_info": {
   "codemirror_mode": {
    "name": "ipython",
    "version": 3
   },
   "file_extension": ".py",
   "mimetype": "text/x-python",
   "name": "python",
   "nbconvert_exporter": "python",
   "pygments_lexer": "ipython3",
   "version": "3.12.3"
  }
 },
 "nbformat": 4,
 "nbformat_minor": 5
}
