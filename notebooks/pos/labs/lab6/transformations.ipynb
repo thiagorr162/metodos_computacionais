{
 "cells": [
  {
   "cell_type": "markdown",
   "id": "4b1f531a-82c1-4b42-90b6-79cc59143ae4",
   "metadata": {},
   "source": [
    "# Exercício\n",
    "\n",
    "Implemente todos os métodos de geração vistos em sala para as seguintes distribuições:\n",
    "\n",
    "- Gammas (para todos os casos de $ \\alpha $)  \n",
    "- Betas  \n",
    "- Normais via Box–Muller  \n",
    "- Normal multivariada  \n",
    "- Qui-quadrado  \n",
    "- t de Student  \n"
   ]
  }
 ],
 "metadata": {
  "kernelspec": {
   "display_name": "Python 3 (ipykernel)",
   "language": "python",
   "name": "python3"
  },
  "language_info": {
   "codemirror_mode": {
    "name": "ipython",
    "version": 3
   },
   "file_extension": ".py",
   "mimetype": "text/x-python",
   "name": "python",
   "nbconvert_exporter": "python",
   "pygments_lexer": "ipython3",
   "version": "3.12.3"
  }
 },
 "nbformat": 4,
 "nbformat_minor": 5
}
