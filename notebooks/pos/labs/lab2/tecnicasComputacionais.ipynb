{
 "cells": [
  {
   "cell_type": "markdown",
   "id": "157d5fba-55d7-4efe-88cf-e4dcbeac25a4",
   "metadata": {},
   "source": [
    "# Exercício: Geração de variáveis aleatórias discretas com otimização\n",
    "\n",
    "Neste exercício, vamos retomar os métodos de geração de variáveis aleatórias discretas estudados na aula passada (por exemplo: distribuição geométrica, binomial, Poisson, etc.). O objetivo é aplicar diferentes técnicas de **otimização e análise de desempenho**:\n",
    "\n",
    "1. **Profiling com `cProfile`**: identificar onde o tempo está sendo gasto.  \n",
    "2. **Aceleração com `Numba`**: compilar funções críticas para código nativo.  \n",
    "3. **Paralelização em Python**: rodar várias simulações em paralelo com `joblib.Parallel`.  \n",
    "\n",
    "Por fim, compare os tempos de execução obtidos em cada abordagem.\n",
    "\n"
   ]
  }
 ],
 "metadata": {
  "kernelspec": {
   "display_name": "Python 3 (ipykernel)",
   "language": "python",
   "name": "python3"
  },
  "language_info": {
   "codemirror_mode": {
    "name": "ipython",
    "version": 3
   },
   "file_extension": ".py",
   "mimetype": "text/x-python",
   "name": "python",
   "nbconvert_exporter": "python",
   "pygments_lexer": "ipython3",
   "version": "3.12.3"
  }
 },
 "nbformat": 4,
 "nbformat_minor": 5
}
